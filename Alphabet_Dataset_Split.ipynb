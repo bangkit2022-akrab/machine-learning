{
 "cells": [
  {
   "cell_type": "code",
   "execution_count": 1,
   "metadata": {
    "id": "KLzgn5utHEoT"
   },
   "outputs": [],
   "source": [
    "import csv\n",
    "import string\n",
    "import numpy as np\n",
    "import tensorflow as tf\n",
    "import os\n",
    "import shutil\n",
    "from shutil import copyfile\n",
    "import random"
   ]
  },
  {
   "cell_type": "markdown",
   "metadata": {
    "id": "WCrHmPBkLzdC"
   },
   "source": [
    "# New Section"
   ]
  },
  {
   "cell_type": "code",
   "execution_count": 2,
   "metadata": {
    "id": "QPHs1Dn3Ff44"
   },
   "outputs": [],
   "source": [
    "dataset_path = 'D:/Python Notebooks/Bangkit Capstone Project/Alphabet Dataset'\n",
    "root_dir = 'D:/Python Notebooks/Bangkit Capstone Project/Train Test Split'\n",
    "\n",
    "classes = ['A', 'B', 'C', 'D', 'E', 'F', \n",
    "           'G', 'H', 'I', 'K', 'L', 'M', \n",
    "           'N', 'O', 'P', 'Q', 'R', 'S',  \n",
    "           'T', 'U', 'V', 'W', 'X', 'Y']"
   ]
  },
  {
   "cell_type": "code",
   "execution_count": 3,
   "metadata": {
    "id": "MV2_EhtkQTmu"
   },
   "outputs": [],
   "source": [
    "if os.path.exists(root_dir):\n",
    "  shutil.rmtree(root_dir)\n",
    "os.mkdir(root_dir)"
   ]
  },
  {
   "cell_type": "code",
   "execution_count": 4,
   "metadata": {
    "id": "Yd3UcqpuPJny"
   },
   "outputs": [],
   "source": [
    "train_dir = os.path.join(root_dir, 'Training')\n",
    "os.mkdir(train_dir)\n",
    "test_dir = os.path.join(root_dir, 'Testing')\n",
    "os.mkdir(test_dir)\n",
    "\n",
    "for label in classes:\n",
    "  os.mkdir(os.path.join(train_dir, '{}'.format(label)))\n",
    "  os.mkdir(os.path.join(test_dir, '{}'.format(label)))"
   ]
  },
  {
   "cell_type": "code",
   "execution_count": 5,
   "metadata": {
    "id": "icby_nB3PJ76"
   },
   "outputs": [],
   "source": [
    "def split_image(SOURCE, TRAINING, TESTING, SPLIT_SIZE):\n",
    "  ### START CODE HERE\n",
    "  images = []\n",
    "  for image in os.listdir(SOURCE):\n",
    "    image_path = os.path.join(SOURCE, image)\n",
    "    images.append(image)\n",
    "\n",
    "  images = random.sample(images, len(images))  \n",
    "  for image in images[:int(len(images)*SPLIT_SIZE)]:\n",
    "    image_path = os.path.join(SOURCE, image)\n",
    "    image_destination = os.path.join(TRAINING, image)\n",
    "    copyfile(image_path, image_destination)\n",
    "\n",
    "  for image in images[int(len(images)*SPLIT_SIZE):]:\n",
    "    image_path = os.path.join(SOURCE, image)\n",
    "    image_destination = os.path.join(TESTING, image)\n",
    "    copyfile(image_path, image_destination)"
   ]
  },
  {
   "cell_type": "code",
   "execution_count": 6,
   "metadata": {
    "id": "bl74RuLOPJ-d"
   },
   "outputs": [],
   "source": [
    "source_class = []\n",
    "train_class = []\n",
    "test_class = []\n",
    "\n",
    "for label in classes:\n",
    "  source_class.append(os.path.join(dataset_path, '{}'.format(label)))\n",
    "  train_class.append(os.path.join(train_dir, '{}'.format(label)))\n",
    "  test_class.append(os.path.join(test_dir, '{}'.format(label)))"
   ]
  },
  {
   "cell_type": "code",
   "execution_count": 7,
   "metadata": {
    "id": "uGECeRArNuwW"
   },
   "outputs": [],
   "source": [
    "for i in range(len(classes)):\n",
    "  split_image(source_class[i], train_class[i], test_class[i], 0.8)"
   ]
  },
  {
   "cell_type": "code",
   "execution_count": null,
   "metadata": {
    "id": "4mH_UiEdN2N4"
   },
   "outputs": [],
   "source": []
  }
 ],
 "metadata": {
  "accelerator": "GPU",
  "colab": {
   "collapsed_sections": [],
   "name": "Alphabet Dataset Split",
   "provenance": []
  },
  "kernelspec": {
   "display_name": "Python 3 (ipykernel)",
   "language": "python",
   "name": "python3"
  },
  "language_info": {
   "codemirror_mode": {
    "name": "ipython",
    "version": 3
   },
   "file_extension": ".py",
   "mimetype": "text/x-python",
   "name": "python",
   "nbconvert_exporter": "python",
   "pygments_lexer": "ipython3",
   "version": "3.9.12"
  }
 },
 "nbformat": 4,
 "nbformat_minor": 1
}
