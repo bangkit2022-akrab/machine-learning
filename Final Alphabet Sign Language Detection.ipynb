{
 "cells": [
  {
   "cell_type": "code",
   "execution_count": 4,
   "metadata": {
    "id": "KLzgn5utHEoT"
   },
   "outputs": [],
   "source": [
    "import csv\n",
    "import string\n",
    "import numpy as np\n",
    "import tensorflow as tf\n",
    "import matplotlib.pyplot as plt\n",
    "from tensorflow.keras.preprocessing.image import ImageDataGenerator, array_to_img\n",
    "from keras.layers import Dense, Conv2D , MaxPool2D , Flatten , Dropout , BatchNormalization\n",
    "import pathlib"
   ]
  },
  {
   "cell_type": "code",
   "execution_count": 5,
   "metadata": {
    "id": "CA7HNw3hBmWv"
   },
   "outputs": [],
   "source": [
    "TRAINING_DIR = 'D:/Python Notebooks/Bangkit Capstone Project/Final Train Test Split/Training'\n",
    "VALIDATION_DIR = 'D:/Python Notebooks/Bangkit Capstone Project/Final Train Test Split/Testing'"
   ]
  },
  {
   "cell_type": "code",
   "execution_count": 6,
   "metadata": {
    "id": "c0jbOuOIXr5J"
   },
   "outputs": [],
   "source": [
    "def train_val_generators(TRAINING_DIR, VALIDATION_DIR):\n",
    "  train_datagen = ImageDataGenerator(rescale=1./255,\n",
    "                                     rotation_range=30, \n",
    "                                     zoom_range=0.1, \n",
    "                                     width_shift_range=0.2,  \n",
    "                                     height_shift_range=0.2)\n",
    "\n",
    "  train_generator = train_datagen.flow_from_directory(directory=TRAINING_DIR,\n",
    "                                                      batch_size=32,\n",
    "                                                      class_mode='categorical',\n",
    "                                                      target_size=(150, 150))\n",
    "\n",
    "  validation_datagen = ImageDataGenerator(rescale=1/255)\n",
    "\n",
    "  validation_generator = validation_datagen.flow_from_directory(directory=VALIDATION_DIR,\n",
    "                                                                batch_size=32,\n",
    "                                                                class_mode='categorical',\n",
    "                                                                target_size=(150, 150))\n",
    "  \n",
    "  return train_generator, validation_generator"
   ]
  },
  {
   "cell_type": "code",
   "execution_count": 7,
   "metadata": {
    "colab": {
     "base_uri": "https://localhost:8080/"
    },
    "id": "16gFkeeVFFy-",
    "outputId": "95803691-ca92-4139-bbe7-2461f37a9faf"
   },
   "outputs": [
    {
     "name": "stdout",
     "output_type": "stream",
     "text": [
      "Found 22302 images belonging to 24 classes.\n",
      "Found 7446 images belonging to 24 classes.\n"
     ]
    }
   ],
   "source": [
    "train_generator, validation_generator = train_val_generators(TRAINING_DIR, VALIDATION_DIR)"
   ]
  },
  {
   "cell_type": "code",
   "execution_count": 8,
   "metadata": {
    "id": "JvbjbbGFFJZw"
   },
   "outputs": [],
   "source": [
    "def create_model():\n",
    "\n",
    "  model = tf.keras.models.Sequential([tf.keras.layers.Conv2D(32, (3,3), activation='relu', input_shape=(150, 150, 3)),\n",
    "                                      tf.keras.layers.MaxPooling2D(2, 2),\n",
    "                                      tf.keras.layers.Conv2D(64, (3,3), activation='relu'),\n",
    "                                      tf.keras.layers.MaxPooling2D(2,2),\n",
    "                                      tf.keras.layers.Conv2D(64, (3,3), activation='relu'),\n",
    "                                      tf.keras.layers.MaxPooling2D(2,2),\n",
    "                                      tf.keras.layers.Conv2D(64, (3,3), activation='relu'),\n",
    "                                      tf.keras.layers.MaxPooling2D(2,2),\n",
    "                                      tf.keras.layers.Flatten(),                                 \n",
    "                                      tf.keras.layers.Dense(256, activation='relu'),\n",
    "                                      tf.keras.layers.Dropout(0.2),\n",
    "                                      tf.keras.layers.Dense(24, activation='softmax')])\n",
    "\n",
    "  model.compile(optimizer = 'adam',\n",
    "                loss = 'categorical_crossentropy',\n",
    "                metrics=['accuracy']) \n",
    "  \n",
    "  return model"
   ]
  },
  {
   "cell_type": "code",
   "execution_count": 10,
   "metadata": {
    "colab": {
     "base_uri": "https://localhost:8080/"
    },
    "id": "doqj-P6UG3cp",
    "outputId": "5a424e63-10e0-4ef2-f881-5f220f0edf41",
    "scrolled": false
   },
   "outputs": [
    {
     "name": "stdout",
     "output_type": "stream",
     "text": [
      "Epoch 1/30\n",
      "697/697 [==============================] - 443s 635ms/step - loss: 2.9621 - accuracy: 0.0897 - val_loss: 2.2805 - val_accuracy: 0.2710\n",
      "Epoch 2/30\n",
      "697/697 [==============================] - 404s 580ms/step - loss: 2.0472 - accuracy: 0.3467 - val_loss: 1.1152 - val_accuracy: 0.6594\n",
      "Epoch 3/30\n",
      "697/697 [==============================] - 401s 576ms/step - loss: 1.2843 - accuracy: 0.5813 - val_loss: 0.5813 - val_accuracy: 0.8269\n",
      "Epoch 4/30\n",
      "697/697 [==============================] - 400s 574ms/step - loss: 0.9079 - accuracy: 0.7033 - val_loss: 0.4016 - val_accuracy: 0.8834\n",
      "Epoch 5/30\n",
      "697/697 [==============================] - 410s 589ms/step - loss: 0.7180 - accuracy: 0.7654 - val_loss: 0.3138 - val_accuracy: 0.9065\n",
      "Epoch 6/30\n",
      "697/697 [==============================] - 500s 718ms/step - loss: 0.6049 - accuracy: 0.8020 - val_loss: 0.2522 - val_accuracy: 0.9245\n",
      "Epoch 7/30\n",
      "697/697 [==============================] - 400s 574ms/step - loss: 0.5211 - accuracy: 0.8267 - val_loss: 0.2458 - val_accuracy: 0.9216\n",
      "Epoch 8/30\n",
      "697/697 [==============================] - 399s 572ms/step - loss: 0.4716 - accuracy: 0.8455 - val_loss: 0.2033 - val_accuracy: 0.9371\n",
      "Epoch 9/30\n",
      "697/697 [==============================] - 397s 570ms/step - loss: 0.4388 - accuracy: 0.8565 - val_loss: 0.1706 - val_accuracy: 0.9491\n",
      "Epoch 10/30\n",
      "697/697 [==============================] - 403s 578ms/step - loss: 0.3904 - accuracy: 0.8725 - val_loss: 0.1551 - val_accuracy: 0.9519\n",
      "Epoch 11/30\n",
      "697/697 [==============================] - 405s 581ms/step - loss: 0.3793 - accuracy: 0.8788 - val_loss: 0.1639 - val_accuracy: 0.9518\n",
      "Epoch 12/30\n",
      "697/697 [==============================] - 403s 577ms/step - loss: 0.3551 - accuracy: 0.8835 - val_loss: 0.1488 - val_accuracy: 0.9555\n",
      "Epoch 13/30\n",
      "697/697 [==============================] - 402s 577ms/step - loss: 0.3317 - accuracy: 0.8920 - val_loss: 0.1217 - val_accuracy: 0.9651\n",
      "Epoch 14/30\n",
      "697/697 [==============================] - 404s 580ms/step - loss: 0.3225 - accuracy: 0.8952 - val_loss: 0.1463 - val_accuracy: 0.9570\n",
      "Epoch 15/30\n",
      "697/697 [==============================] - 412s 592ms/step - loss: 0.3047 - accuracy: 0.9028 - val_loss: 0.1249 - val_accuracy: 0.9620\n",
      "Epoch 16/30\n",
      "697/697 [==============================] - 411s 589ms/step - loss: 0.2851 - accuracy: 0.9044 - val_loss: 0.1226 - val_accuracy: 0.9663\n",
      "Epoch 17/30\n",
      "697/697 [==============================] - 404s 580ms/step - loss: 0.2817 - accuracy: 0.9075 - val_loss: 0.1161 - val_accuracy: 0.9672\n",
      "Epoch 18/30\n",
      "697/697 [==============================] - 403s 578ms/step - loss: 0.2731 - accuracy: 0.9119 - val_loss: 0.1223 - val_accuracy: 0.9637\n",
      "Epoch 19/30\n",
      "697/697 [==============================] - 403s 578ms/step - loss: 0.2675 - accuracy: 0.9131 - val_loss: 0.1050 - val_accuracy: 0.9690\n",
      "Epoch 20/30\n",
      "697/697 [==============================] - 403s 578ms/step - loss: 0.2561 - accuracy: 0.9166 - val_loss: 0.1090 - val_accuracy: 0.9695\n",
      "Epoch 21/30\n",
      "697/697 [==============================] - 402s 577ms/step - loss: 0.2402 - accuracy: 0.9199 - val_loss: 0.1036 - val_accuracy: 0.9695\n",
      "Epoch 22/30\n",
      "697/697 [==============================] - 402s 576ms/step - loss: 0.2435 - accuracy: 0.9216 - val_loss: 0.0994 - val_accuracy: 0.9698\n",
      "Epoch 23/30\n",
      "697/697 [==============================] - 402s 576ms/step - loss: 0.2399 - accuracy: 0.9219 - val_loss: 0.1013 - val_accuracy: 0.9705\n",
      "Epoch 24/30\n",
      "697/697 [==============================] - 415s 595ms/step - loss: 0.2270 - accuracy: 0.9269 - val_loss: 0.0952 - val_accuracy: 0.9727\n",
      "Epoch 25/30\n",
      "697/697 [==============================] - 409s 586ms/step - loss: 0.2291 - accuracy: 0.9263 - val_loss: 0.0993 - val_accuracy: 0.9702\n",
      "Epoch 26/30\n",
      "697/697 [==============================] - 407s 583ms/step - loss: 0.2244 - accuracy: 0.9281 - val_loss: 0.0866 - val_accuracy: 0.9741\n",
      "Epoch 27/30\n",
      "697/697 [==============================] - 403s 578ms/step - loss: 0.2188 - accuracy: 0.9305 - val_loss: 0.0811 - val_accuracy: 0.9762\n",
      "Epoch 28/30\n",
      "697/697 [==============================] - 403s 579ms/step - loss: 0.2074 - accuracy: 0.9335 - val_loss: 0.0872 - val_accuracy: 0.9756\n",
      "Epoch 29/30\n",
      "697/697 [==============================] - 404s 580ms/step - loss: 0.2168 - accuracy: 0.9301 - val_loss: 0.0937 - val_accuracy: 0.9726\n",
      "Epoch 30/30\n",
      "697/697 [==============================] - 404s 579ms/step - loss: 0.2074 - accuracy: 0.9336 - val_loss: 0.0820 - val_accuracy: 0.9743\n"
     ]
    }
   ],
   "source": [
    "model = create_model()\n",
    "\n",
    "history = model.fit(train_generator,\n",
    "                    epochs=30,\n",
    "                    validation_data=validation_generator)"
   ]
  },
  {
   "cell_type": "code",
   "execution_count": 11,
   "metadata": {},
   "outputs": [
    {
     "data": {
      "image/png": "[encoded data removed]",
      "text/plain": [
       "<Figure size 432x288 with 1 Axes>"
      ]
     },
     "metadata": {
      "needs_background": "light"
     },
     "output_type": "display_data"
    },
    {
     "data": {
      "image/png": "[encoded data removed]",
      "text/plain": [
       "<Figure size 432x288 with 1 Axes>"
      ]
     },
     "metadata": {
      "needs_background": "light"
     },
     "output_type": "display_data"
    }
   ],
   "source": [
    "import matplotlib.pyplot as plt\n",
    "\n",
    "def plot_loss_acc(history):\n",
    "  '''Plots the training and validation loss and accuracy from a history object'''\n",
    "  acc = history.history['accuracy']\n",
    "  val_acc = history.history['val_accuracy']\n",
    "  loss = history.history['loss']\n",
    "  val_loss = history.history['val_loss']\n",
    "\n",
    "  epochs = range(len(acc))\n",
    "\n",
    "  plt.plot(epochs, acc, 'bo', label='Training accuracy')\n",
    "  plt.plot(epochs, val_acc, 'b', label='Validation accuracy')\n",
    "  plt.title('Training and validation accuracy')\n",
    "\n",
    "  plt.figure()\n",
    "\n",
    "  plt.plot(epochs, loss, 'bo', label='Training Loss')\n",
    "  plt.plot(epochs, val_loss, 'b', label='Validation Loss')\n",
    "  plt.title('Training and validation loss')\n",
    "  plt.legend()\n",
    "\n",
    "  plt.show()\n",
    "\n",
    "plot_loss_acc(history)"
   ]
  },
  {
   "cell_type": "code",
   "execution_count": 12,
   "metadata": {},
   "outputs": [],
   "source": [
    "model.save('D:/Python Notebooks/Bangkit Capstone Project/Final Saved Model/alphabet_model.h5')"
   ]
  },
  {
   "cell_type": "code",
   "execution_count": 13,
   "metadata": {
    "colab": {
     "base_uri": "https://localhost:8080/"
    },
    "id": "2KL-kLdg3DG2",
    "outputId": "ae03f72e-90c6-4716-ae29-ec33322183c9"
   },
   "outputs": [
    {
     "name": "stderr",
     "output_type": "stream",
     "text": [
      "WARNING:absl:Found untraced functions such as _jit_compiled_convolution_op, _jit_compiled_convolution_op, _jit_compiled_convolution_op, _jit_compiled_convolution_op while saving (showing 4 of 4). These functions will not be directly callable after loading.\n"
     ]
    },
    {
     "name": "stdout",
     "output_type": "stream",
     "text": [
      "INFO:tensorflow:Assets written to: D:/Python Notebooks/Bangkit Capstone Project/Final Saved Model/assets\n"
     ]
    },
    {
     "name": "stderr",
     "output_type": "stream",
     "text": [
      "INFO:tensorflow:Assets written to: D:/Python Notebooks/Bangkit Capstone Project/Final Saved Model/assets\n"
     ]
    }
   ],
   "source": [
    "saved_model = 'D:/Python Notebooks/Bangkit Capstone Project/Final Saved Model/'\n",
    "tf.saved_model.save(model, saved_model)"
   ]
  },
  {
   "cell_type": "code",
   "execution_count": 2,
   "metadata": {},
   "outputs": [],
   "source": [
    "model = tf.keras.models.load_model(\"D:/Python Notebooks/Bangkit Capstone Project/New Saved Model/alphabet_model.h5\")"
   ]
  },
  {
   "cell_type": "code",
   "execution_count": 35,
   "metadata": {
    "colab": {
     "base_uri": "https://localhost:8080/"
    },
    "id": "gcGKsJnDK7dw",
    "outputId": "1ade7ac0-8c70-47f5-d1ea-4d8950dec8bf"
   },
   "outputs": [],
   "source": [
    "converter = tf.lite.TFLiteConverter.from_saved_model(saved_model)\n",
    "tflite_model = converter.convert()"
   ]
  },
  {
   "cell_type": "code",
   "execution_count": 36,
   "metadata": {
    "colab": {
     "base_uri": "https://localhost:8080/"
    },
    "id": "4cdC6H7eLM-J",
    "outputId": "35a74847-5f79-41cb-de61-1e986dce5aaf"
   },
   "outputs": [
    {
     "data": {
      "text/plain": [
       "3614760"
      ]
     },
     "execution_count": 36,
     "metadata": {},
     "output_type": "execute_result"
    }
   ],
   "source": [
    "tflite_model_file = pathlib.Path('D:/Python Notebooks/Bangkit Capstone Project/Final Saved Model/alphabet_model.tflite')\n",
    "tflite_model_file.write_bytes(tflite_model)"
   ]
  },
  {
   "cell_type": "code",
   "execution_count": 29,
   "metadata": {},
   "outputs": [
    {
     "name": "stdout",
     "output_type": "stream",
     "text": [
      "['D:/Python Notebooks/Bangkit Capstone Project/Sign Language Testing/A.jpg', 'D:/Python Notebooks/Bangkit Capstone Project/Sign Language Testing/B.jpg', 'D:/Python Notebooks/Bangkit Capstone Project/Sign Language Testing/C.jpg', 'D:/Python Notebooks/Bangkit Capstone Project/Sign Language Testing/D.jpg', 'D:/Python Notebooks/Bangkit Capstone Project/Sign Language Testing/E.jpg', 'D:/Python Notebooks/Bangkit Capstone Project/Sign Language Testing/F.jpg', 'D:/Python Notebooks/Bangkit Capstone Project/Sign Language Testing/G.jpg', 'D:/Python Notebooks/Bangkit Capstone Project/Sign Language Testing/H.jpg', 'D:/Python Notebooks/Bangkit Capstone Project/Sign Language Testing/I.jpg', 'D:/Python Notebooks/Bangkit Capstone Project/Sign Language Testing/K.jpg', 'D:/Python Notebooks/Bangkit Capstone Project/Sign Language Testing/L.jpg', 'D:/Python Notebooks/Bangkit Capstone Project/Sign Language Testing/M.jpg', 'D:/Python Notebooks/Bangkit Capstone Project/Sign Language Testing/N.jpg', 'D:/Python Notebooks/Bangkit Capstone Project/Sign Language Testing/O.jpg', 'D:/Python Notebooks/Bangkit Capstone Project/Sign Language Testing/P.jpg', 'D:/Python Notebooks/Bangkit Capstone Project/Sign Language Testing/Q.jpg', 'D:/Python Notebooks/Bangkit Capstone Project/Sign Language Testing/R.jpg', 'D:/Python Notebooks/Bangkit Capstone Project/Sign Language Testing/S.jpg', 'D:/Python Notebooks/Bangkit Capstone Project/Sign Language Testing/T.jpg', 'D:/Python Notebooks/Bangkit Capstone Project/Sign Language Testing/U.jpg', 'D:/Python Notebooks/Bangkit Capstone Project/Sign Language Testing/V.jpg', 'D:/Python Notebooks/Bangkit Capstone Project/Sign Language Testing/W.jpg', 'D:/Python Notebooks/Bangkit Capstone Project/Sign Language Testing/X.jpg', 'D:/Python Notebooks/Bangkit Capstone Project/Sign Language Testing/Y.jpg']\n"
     ]
    }
   ],
   "source": [
    "paths = []\n",
    "\n",
    "classes = ['A', 'B', 'C', 'D', 'E', 'F', \n",
    "           'G', 'H', 'I', 'K', 'L', 'M', \n",
    "           'N', 'O', 'P', 'Q', 'R', 'S',  \n",
    "           'T', 'U', 'V', 'W', 'X', 'Y']\n",
    "    \n",
    "for alphabet in classes:\n",
    "    paths.append(\"D:/Python Notebooks/Bangkit Capstone Project/Sign Language Testing/{}.jpg\".format(alphabet))\n",
    "print(paths)"
   ]
  },
  {
   "cell_type": "code",
   "execution_count": 42,
   "metadata": {},
   "outputs": [
    {
     "name": "stdout",
     "output_type": "stream",
     "text": [
      "['C:/Users/Arkana Yudhistira/Downloads/bg putih.jpeg']\n"
     ]
    }
   ],
   "source": [
    "paths = []\n",
    "paths.append(\"C:/Users/Arkana Yudhistira/Downloads/bg putih.jpeg\")\n",
    "print(paths)"
   ]
  },
  {
   "cell_type": "code",
   "execution_count": 34,
   "metadata": {},
   "outputs": [
    {
     "name": "stdout",
     "output_type": "stream",
     "text": [
      "D:/Python Notebooks/Bangkit Capstone Project/Module/Alphabet/A.jpg\n"
     ]
    }
   ],
   "source": [
    "print(paths[0])"
   ]
  },
  {
   "cell_type": "code",
   "execution_count": 43,
   "metadata": {
    "colab": {
     "base_uri": "https://localhost:8080/",
     "height": 91,
     "resources": {
      "http://localhost:8080/nbextensions/google.colab/files.js": {
       "data": "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",
       "headers": [
        [
         "content-type",
         "application/javascript"
        ]
       ],
       "ok": true,
       "status": 200,
       "status_text": ""
      }
     }
    },
    "id": "zAuMVeIMLhKY",
    "outputId": "e7206a41-3b2c-478a-9074-ef48dd993bba"
   },
   "outputs": [
    {
     "name": "stdout",
     "output_type": "stream",
     "text": [
      "1/1 [==============================] - 0s 24ms/step\n",
      "C:/Users/Arkana Yudhistira/Downloads/bg putih.jpeg is a sign language of 'B'\n"
     ]
    },
    {
     "data": {
      "image/png": "[encoded data removed]",
      "text/plain": [
       "<Figure size 432x288 with 1 Axes>"
      ]
     },
     "metadata": {
      "needs_background": "light"
     },
     "output_type": "display_data"
    }
   ],
   "source": [
    "import numpy as np\n",
    "\n",
    "for path in paths:\n",
    "    img = tf.keras.preprocessing.image.load_img(path, target_size=(150,150))\n",
    "    x = tf.keras.preprocessing.image.img_to_array(img)\n",
    "    x /= 255\n",
    "    x = np.expand_dims(x, axis=0)\n",
    "    images = np.vstack([x])\n",
    "    image_prob = model.predict(images, batch_size=50)\n",
    "    index = image_prob[0].argmax(axis=-1)\n",
    "    classes = ['A', 'B', 'C', 'D', 'E', 'F', \n",
    "               'G', 'H', 'I', 'K', 'L', 'M', \n",
    "               'N', 'O', 'P', 'Q', 'R', 'S',  \n",
    "               'T', 'U', 'V', 'W', 'X', 'Y']\n",
    "    print(\"{} is a sign language of '{}'\".format(path, classes[index]))\n",
    "    plt.imshow(img)"
   ]
  },
  {
   "cell_type": "markdown",
   "metadata": {
    "id": "Le4VVPqhffyv"
   },
   "source": []
  }
 ],
 "metadata": {
  "accelerator": "GPU",
  "colab": {
   "collapsed_sections": [],
   "name": "Digit Sign Language Detection.ipynb",
   "provenance": []
  },
  "kernelspec": {
   "display_name": "Python 3 (ipykernel)",
   "language": "python",
   "name": "python3"
  },
  "language_info": {
   "codemirror_mode": {
    "name": "ipython",
    "version": 3
   },
   "file_extension": ".py",
   "mimetype": "text/x-python",
   "name": "python",
   "nbconvert_exporter": "python",
   "pygments_lexer": "ipython3",
   "version": "3.9.12"
  }
 },
 "nbformat": 4,
 "nbformat_minor": 1
}
