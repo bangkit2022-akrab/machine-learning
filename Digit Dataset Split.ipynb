{
  "cells": [
    {
      "cell_type": "markdown",
      "metadata": {
        "id": "view-in-github",
        "colab_type": "text"
      },
      "source": [
        "<a href=\"https://colab.research.google.com/github/arkanayudhistira/bangkit/blob/main/Sign_Language_Digit_Dataset_Split.ipynb\" target=\"_parent\"><img src=\"https://colab.research.google.com/assets/colab-badge.svg\" alt=\"Open In Colab\"/></a>"
      ]
    },
    {
      "cell_type": "code",
      "execution_count": 26,
      "metadata": {
        "id": "KLzgn5utHEoT"
      },
      "outputs": [],
      "source": [
        "import csv\n",
        "import string\n",
        "import numpy as np\n",
        "import tensorflow as tf\n",
        "import matplotlib.pyplot as plt\n",
        "import os\n",
        "import shutil\n",
        "from shutil import copyfile\n",
        "import random\n",
        "from tensorflow.keras.preprocessing.image import ImageDataGenerator, array_to_img"
      ]
    },
    {
      "cell_type": "code",
      "execution_count": 10,
      "metadata": {
        "colab": {
          "base_uri": "https://localhost:8080/"
        },
        "id": "OgD9hdJZAuL8",
        "outputId": "324fbc8d-fcb4-4e2c-8766-0812db786553"
      },
      "outputs": [
        {
          "output_type": "stream",
          "name": "stdout",
          "text": [
            "Drive already mounted at /content/drive; to attempt to forcibly remount, call drive.mount(\"/content/drive\", force_remount=True).\n"
          ]
        }
      ],
      "source": [
        "from google.colab import drive\n",
        "drive.mount('/content/drive')"
      ]
    },
    {
      "cell_type": "code",
      "source": [
        "dataset_path = '/content/drive/MyDrive/Capstone Project/Dataset'\n",
        "root_dir = '/content/drive/MyDrive/Capstone Project/Sign Language Digit'"
      ],
      "metadata": {
        "id": "QPHs1Dn3Ff44"
      },
      "execution_count": 14,
      "outputs": []
    },
    {
      "cell_type": "code",
      "source": [
        "if os.path.exists(root_dir):\n",
        "  shutil.rmtree(root_dir)\n",
        "os.mkdir(root_dir)"
      ],
      "metadata": {
        "id": "MV2_EhtkQTmu"
      },
      "execution_count": 27,
      "outputs": []
    },
    {
      "cell_type": "code",
      "source": [
        "train_dir = os.path.join(root_dir, 'Training')\n",
        "os.mkdir(train_dir)\n",
        "test_dir = os.path.join(root_dir, 'Testing')\n",
        "os.mkdir(test_dir)\n",
        "\n",
        "for i in range(10):\n",
        "  os.mkdir(os.path.join(train_dir, '{}'.format(i)))\n",
        "  os.mkdir(os.path.join(test_dir, '{}'.format(i)))"
      ],
      "metadata": {
        "id": "Yd3UcqpuPJny"
      },
      "execution_count": 28,
      "outputs": []
    },
    {
      "cell_type": "code",
      "source": [
        "def split_image(SOURCE, TRAINING, TESTING, SPLIT_SIZE):\n",
        "  ### START CODE HERE\n",
        "  images = []\n",
        "  for image in os.listdir(SOURCE):\n",
        "    image_path = os.path.join(SOURCE, image)\n",
        "    images.append(image)\n",
        "\n",
        "  images = random.sample(images, len(images))  \n",
        "  for image in images[:int(len(images)*SPLIT_SIZE)]:\n",
        "    image_path = os.path.join(SOURCE, image)\n",
        "    image_destination = os.path.join(TRAINING, image)\n",
        "    copyfile(image_path, image_destination)\n",
        "\n",
        "  for image in images[int(len(images)*SPLIT_SIZE):]:\n",
        "    image_path = os.path.join(SOURCE, image)\n",
        "    image_destination = os.path.join(TESTING, image)\n",
        "    copyfile(image_path, image_destination)"
      ],
      "metadata": {
        "id": "icby_nB3PJ76"
      },
      "execution_count": 29,
      "outputs": []
    },
    {
      "cell_type": "code",
      "source": [
        "source_class = []\n",
        "train_class = []\n",
        "test_class = []\n",
        "\n",
        "for i in range(10):\n",
        "  source_class.append(os.path.join(dataset_path, '{}'.format(i)))\n",
        "  train_class.append(os.path.join(train_dir, '{}'.format(i)))\n",
        "  test_class.append(os.path.join(test_dir, '{}'.format(i)))\n",
        "\n",
        "for i in range(10):\n",
        "  split_image(source_class[i], train_class[i], test_class[i], 0.8)"
      ],
      "metadata": {
        "id": "bl74RuLOPJ-d"
      },
      "execution_count": 30,
      "outputs": []
    }
  ],
  "metadata": {
    "accelerator": "GPU",
    "colab": {
      "collapsed_sections": [],
      "name": "Sign Language Digit Dataset Split.ipynb",
      "provenance": [],
      "include_colab_link": true
    },
    "kernelspec": {
      "display_name": "Python 3",
      "name": "python3"
    },
    "language_info": {
      "name": "python"
    }
  },
  "nbformat": 4,
  "nbformat_minor": 0
}
